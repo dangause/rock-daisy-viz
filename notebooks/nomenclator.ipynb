{
 "cells": [
  {
   "cell_type": "code",
   "execution_count": 1,
   "metadata": {},
   "outputs": [
    {
     "ename": "ModuleNotFoundError",
     "evalue": "No module named 'rockdaisy'",
     "output_type": "error",
     "traceback": [
      "\u001b[31m---------------------------------------------------------------------------\u001b[39m",
      "\u001b[31mModuleNotFoundError\u001b[39m                       Traceback (most recent call last)",
      "\u001b[36mCell\u001b[39m\u001b[36m \u001b[39m\u001b[32mIn[1]\u001b[39m\u001b[32m, line 1\u001b[39m\n\u001b[32m----> \u001b[39m\u001b[32m1\u001b[39m \u001b[38;5;28;01mfrom\u001b[39;00m\u001b[38;5;250m \u001b[39m\u001b[34;01mrockdaisy\u001b[39;00m\u001b[34;01m.\u001b[39;00m\u001b[34;01mnomenclator\u001b[39;00m\u001b[38;5;250m \u001b[39m\u001b[38;5;28;01mimport\u001b[39;00m Nomenclator\n",
      "\u001b[31mModuleNotFoundError\u001b[39m: No module named 'rockdaisy'"
     ]
    }
   ],
   "source": [
    "from rockdaisy.nomenclator import Nomenclator"
   ]
  },
  {
   "cell_type": "code",
   "execution_count": 2,
   "metadata": {},
   "outputs": [],
   "source": [
    "nomenclator_filepath = '../data/nomenclator.txt'\n",
    "nomenclator = Nomenclator(nomenclator_filepath)\n"
   ]
  },
  {
   "cell_type": "code",
   "execution_count": 3,
   "metadata": {},
   "outputs": [
    {
     "data": {
      "text/plain": [
       "<rockdaisy.nomenclator.Nomenclator at 0x109967770>"
      ]
     },
     "execution_count": 3,
     "metadata": {},
     "output_type": "execute_result"
    }
   ],
   "source": [
    "nomenclator"
   ]
  },
  {
   "cell_type": "code",
   "execution_count": null,
   "metadata": {},
   "outputs": [],
   "source": [
    "\n",
    "# Lookup any species or synonym\n",
    "record = nomenclator.lookup(\"Perityle canescens\")"
   ]
  },
  {
   "cell_type": "code",
   "execution_count": 5,
   "metadata": {},
   "outputs": [
    {
     "data": {
      "text/plain": [
       "{'species': 'Galinsogeopsis canescens',\n",
       " 'authors': '(Everly) I.H. Lichter-Marck',\n",
       " 'accepted_name': 'Galinsogeopsis canescens',\n",
       " 'accepted_authors': '(Everly) I.H. Lichter-Marck',\n",
       " 'relationship': 'accepted'}"
      ]
     },
     "execution_count": 5,
     "metadata": {},
     "output_type": "execute_result"
    }
   ],
   "source": [
    "# Lookup an accepted name\n",
    "nomenclator['Galinsogeopsis canescens']"
   ]
  },
  {
   "cell_type": "code",
   "execution_count": 6,
   "metadata": {},
   "outputs": [
    {
     "data": {
      "text/plain": [
       "{'species': 'Perityle canescens',\n",
       " 'authors': 'Everly',\n",
       " 'accepted_name': 'Galinsogeopsis canescens',\n",
       " 'accepted_authors': '(Everly) I.H. Lichter-Marck',\n",
       " 'relationship': 'synonym'}"
      ]
     },
     "execution_count": 6,
     "metadata": {},
     "output_type": "execute_result"
    }
   ],
   "source": [
    "# Lookup a synonym\n",
    "nomenclator['Perityle canescens']"
   ]
  },
  {
   "cell_type": "code",
   "execution_count": null,
   "metadata": {},
   "outputs": [],
   "source": []
  },
  {
   "cell_type": "code",
   "execution_count": null,
   "metadata": {},
   "outputs": [],
   "source": []
  },
  {
   "cell_type": "code",
   "execution_count": null,
   "metadata": {},
   "outputs": [],
   "source": []
  },
  {
   "cell_type": "code",
   "execution_count": null,
   "metadata": {},
   "outputs": [],
   "source": []
  },
  {
   "cell_type": "code",
   "execution_count": null,
   "metadata": {},
   "outputs": [],
   "source": []
  },
  {
   "cell_type": "code",
   "execution_count": 8,
   "metadata": {},
   "outputs": [],
   "source": [
    "import re\n",
    "from collections import defaultdict\n",
    "\n",
    "def parse_nomenclator_nested(text):\n",
    "    nested_dict = defaultdict(lambda: {\"synonyms\": [], \"tentative\": []})\n",
    "    current_accepted = None\n",
    "\n",
    "    lines = text.strip().splitlines()\n",
    "\n",
    "    for line in lines:\n",
    "        original = line\n",
    "        line = line.rstrip().lstrip()\n",
    "        if not line:\n",
    "            continue\n",
    "\n",
    "        indent = len(original) - len(original.lstrip())\n",
    "\n",
    "        # Split by symbols while keeping them\n",
    "        tokens = re.findall(r'[=+]?[^=+\\n]+', line)\n",
    "\n",
    "        for token in tokens:\n",
    "            token = token.strip().rstrip(',')\n",
    "            if not token:\n",
    "                continue\n",
    "\n",
    "            if token.startswith('='):\n",
    "                name = token[1:].strip()\n",
    "                if current_accepted:\n",
    "                    nested_dict[current_accepted][\"synonyms\"].append(name)\n",
    "            elif token.startswith('+'):\n",
    "                name = token[1:].strip()\n",
    "                if current_accepted:\n",
    "                    nested_dict[current_accepted][\"tentative\"].append(name)\n",
    "            else:\n",
    "                # This is likely a new accepted name\n",
    "                current_accepted = token\n",
    "                if current_accepted not in nested_dict:\n",
    "                    nested_dict[current_accepted] = {\"synonyms\": [], \"tentative\": []}\n",
    "\n",
    "    return nested_dict\n"
   ]
  },
  {
   "cell_type": "code",
   "execution_count": 9,
   "metadata": {},
   "outputs": [],
   "source": [
    "filepath = '../data/nomenclator.txt'\n",
    "\n",
    "with open(filepath, 'r', encoding='utf-8') as f:\n",
    "    text = f.read()"
   ]
  },
  {
   "cell_type": "code",
   "execution_count": 10,
   "metadata": {},
   "outputs": [],
   "source": [
    "mapping = parse_nomenclator(text)"
   ]
  },
  {
   "cell_type": "code",
   "execution_count": 11,
   "metadata": {},
   "outputs": [
    {
     "data": {
      "text/plain": [
       "{'Alomia tenuifolia (Phil.) Benth. & Hook. ex Reiche': 'Perityle tenuifolius (Phil.) I.H. Lichter-Marck',\n",
       " 'Amauria brandegeeana (Rose) Rydb.': 'Perityle brandegeeana Rose',\n",
       " 'Amauria carterae A.M. Powell': 'Perityle carterae (A.M. Powell) I.H. Lichter-Marck',\n",
       " 'Amauria rotundifolia Benth.': 'Perityle rotundifolia (Benth.) T.S. Brandegee',\n",
       " 'Chlamysperma arenarioides Hook. & Arn.': 'galeana pratensis (Kunth) Rydb.',\n",
       " 'Closia anthemoides Phil.': 'Perityle emoryi Torr.',\n",
       " 'Closia cotula J. Remy': 'Perityle emoryi Torr.',\n",
       " 'Closia elata Phil.': 'Perityle emoryi Torr.',\n",
       " 'Closia foliosa Phil.': 'Perityle emoryi Torr.',\n",
       " 'Closia viridis Phil.': 'Perityle emoryi Torr.',\n",
       " 'Corellia montana A.M. Powell': 'Galinsogeopsis montana (A.M. Powell) I.H. Lichter-Marck',\n",
       " 'Galeana hastata La Llave': 'galeana pratensis (Kunth) Rydb',\n",
       " '': 'Perityle rotundata (Rydb.) Shinners',\n",
       " 'Galinsogeopsis pennellii (B.L. Turner) I.H. Lichter-Marck': 'Galinsogeopsis hofmeisteria (Rydb.) I.H. Lichter-Marck',\n",
       " 'Perityle pennellii B.L. Turner': 'Galinsogeopsis hofmeisteria (Rydb.) I.H. Lichter-Marck',\n",
       " 'Galinsogeopsis spilanthoides Sch. Bip. var. spilanthoides': 'Galinsogeopsis microglossa var. microglossa (Benth.) I.H. Lichter Marck',\n",
       " 'Galinsogeopsis spilanthoides Sch. Bip. var. saxosa (Brandegee) I.H. Lichter-Marck': 'Galinsogeopsis microglossa var. saxosa (Brandegee) I.H. Lichter Marck',\n",
       " 'Galinsogeopsis stevensii (B.L. Turner) I.H. Lichter-Marck': 'Galinsogeopsis canescens (Everly) I.H. Lichter-Marck',\n",
       " 'Perityle stevensii B.L. Turner': 'Galinsogeopsis canescens (Everly) I.H. Lichter-Marck',\n",
       " 'Laphamia angustifolia var. laciniata Torr.': 'Laphamia angustifolia A. Gray',\n",
       " 'Laphamia arizonica Eastw.': 'Laphamia gilensis M.E. Jones var. gilensis',\n",
       " 'Laphamia ciliata L.H. Dewey': 'Galinsogeopsis ciliata (L.H. Dewey) I.H. Lichter-Marck',\n",
       " 'Laphamia congesta M.E. Jones': 'Laphamia toumeyi B.L. Rob. & Greenm.',\n",
       " 'Laphamia coronopifolia (A. Gray) Hemsl.': 'Galinsogeopsis coronopifolia (A. Gray) I.H. Lichter-Marck',\n",
       " 'Laphamia dura A. Nelson': 'Laphamia gilensis M.E. Jones var. gilensis',\n",
       " 'Laphamia fastigiata Brandegee': 'Laphamia gracilis M.E. Jones',\n",
       " 'Laphamia laciniata (Torr.) Rydb.': 'Laphamia angustifolia A. Gray',\n",
       " 'Laphamia lemmonii var. pedata A. Gray': 'Laphamia lemmonii A. Gray',\n",
       " 'Laphamia halimifolia A. Gray': 'Laphamia lindheimeri A. Gray var. halimifolia (A. Gray) I.H. Lichter-Marck',\n",
       " 'Laphamia megacephala subsp. intricata (Brandegee) D.D. Keck': 'Laphamia intricata Brandegee'}"
      ]
     },
     "execution_count": 11,
     "metadata": {},
     "output_type": "execute_result"
    }
   ],
   "source": [
    "mapping"
   ]
  },
  {
   "cell_type": "code",
   "execution_count": null,
   "metadata": {},
   "outputs": [],
   "source": []
  }
 ],
 "metadata": {
  "kernelspec": {
   "display_name": ".venv",
   "language": "python",
   "name": "python3"
  },
  "language_info": {
   "codemirror_mode": {
    "name": "ipython",
    "version": 3
   },
   "file_extension": ".py",
   "mimetype": "text/x-python",
   "name": "python",
   "nbconvert_exporter": "python",
   "pygments_lexer": "ipython3",
   "version": "3.13.3"
  }
 },
 "nbformat": 4,
 "nbformat_minor": 2
}
